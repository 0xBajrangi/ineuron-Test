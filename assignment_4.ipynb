{
 "cells": [
  {
   "cell_type": "markdown",
   "metadata": {},
   "source": [
    "1.1 Write a Python Program(with class concepts) to find the area of the triangle using the below\n",
    "formula.\n",
    "\n",
    "area = (s*(s-a)*(s-b)*(s-c)) *** 0.5\n",
    "\n",
    "Function to take the length of the sides of triangle from user should be defined in the parent\n",
    "class and function to calculate the area should be defined in subclass."
   ]
  },
  {
   "cell_type": "code",
   "execution_count": 12,
   "metadata": {},
   "outputs": [
    {
     "name": "stdout",
     "output_type": "stream",
     "text": [
      "Enter side 1:11\n",
      "Enter side 2:12\n",
      "Enter side 3:13\n",
      "11.0 12.0 13.0 18.0\n",
      "61.48170459575759\n"
     ]
    }
   ],
   "source": [
    "class sides:\n",
    "    def __init__(self):\n",
    "        self.a=float(input(\"Enter side 1:\"))\n",
    "        self.b=float(input(\"Enter side 2:\"))\n",
    "        self.c=float(input(\"Enter side 3:\"))\n",
    "\n",
    "class area(sides):\n",
    "    def clac_area(self):\n",
    "        s=(self.a+self.b+self.c)/2\n",
    "        area=((s*(s-self.a)*(s-self.b)*(s-self.c))**0.5)\n",
    "        return area\n",
    "triangle_1=area()\n",
    "print(triangle_1.clac_area())"
   ]
  },
  {
   "cell_type": "markdown",
   "metadata": {},
   "source": [
    "1.2 Write a function filter_long_words() that takes a list of words and an integer n and returns\n",
    "the list of words that are longer than n."
   ]
  },
  {
   "cell_type": "code",
   "execution_count": 16,
   "metadata": {},
   "outputs": [
    {
     "name": "stdout",
     "output_type": "stream",
     "text": [
      "['hello', 'ineuron', 'pawan']\n"
     ]
    }
   ],
   "source": [
    "def filter_long_word(lst,n):\n",
    "    temp=[]\n",
    "    for i in lst:\n",
    "        if (len(i)>n):\n",
    "            temp.append(i)\n",
    "    return temp\n",
    "\n",
    "lst=['hello','ineuron','this','is','pawan']\n",
    "print(filter_long_word(lst,4))"
   ]
  },
  {
   "cell_type": "markdown",
   "metadata": {},
   "source": [
    "2.1 Write a Python program using function concept that maps list of words into a list of integers\n",
    "representing the lengths of the corresponding words.\n",
    "\n",
    "Hint: If a list [ ab,cde,erty] is passed on to the python function output should come as [2,3,4]\n",
    "Here 2,3 and 4 are the lengths of the words in the list."
   ]
  },
  {
   "cell_type": "code",
   "execution_count": 17,
   "metadata": {},
   "outputs": [
    {
     "name": "stdout",
     "output_type": "stream",
     "text": [
      "[5, 1, 6]\n"
     ]
    }
   ],
   "source": [
    "def list_length(lst):\n",
    "    temp=[len(i) for i in lst ]\n",
    "    print(temp)\n",
    "    \n",
    "lst=['hello','i','neuron']\n",
    "list_length(lst)"
   ]
  },
  {
   "cell_type": "markdown",
   "metadata": {},
   "source": [
    "2.2 Write a Python function which takes a character (i.e. a string of length 1) and returns True if\n",
    "it is a vowel, False otherwise."
   ]
  },
  {
   "cell_type": "code",
   "execution_count": 20,
   "metadata": {},
   "outputs": [
    {
     "name": "stdout",
     "output_type": "stream",
     "text": [
      "False\n"
     ]
    }
   ],
   "source": [
    "def check_vowel(char):\n",
    "    vowel='aeiouAEIOU'\n",
    "    for i in vowel:\n",
    "        if(char==i):\n",
    "            return True\n",
    "    else :\n",
    "        return False\n",
    "print(check_vowel('q'))        "
   ]
  },
  {
   "cell_type": "code",
   "execution_count": null,
   "metadata": {},
   "outputs": [],
   "source": []
  }
 ],
 "metadata": {
  "kernelspec": {
   "display_name": "Python 3",
   "language": "python",
   "name": "python3"
  },
  "language_info": {
   "codemirror_mode": {
    "name": "ipython",
    "version": 3
   },
   "file_extension": ".py",
   "mimetype": "text/x-python",
   "name": "python",
   "nbconvert_exporter": "python",
   "pygments_lexer": "ipython3",
   "version": "3.7.9"
  }
 },
 "nbformat": 4,
 "nbformat_minor": 4
}
