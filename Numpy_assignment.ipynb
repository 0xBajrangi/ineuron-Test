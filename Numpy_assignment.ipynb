{
  "nbformat": 4,
  "nbformat_minor": 0,
  "metadata": {
    "colab": {
      "name": "Numpy assignment.ipynb",
      "provenance": [],
      "authorship_tag": "ABX9TyMxCwAZFusfiRkodM/Zmq8G",
      "include_colab_link": true
    },
    "kernelspec": {
      "name": "python3",
      "display_name": "Python 3"
    }
  },
  "cells": [
    {
      "cell_type": "markdown",
      "metadata": {
        "id": "view-in-github",
        "colab_type": "text"
      },
      "source": [
        "<a href=\"https://colab.research.google.com/github/PawanLode/ineuron-Test/blob/main/Numpy_assignment.ipynb\" target=\"_parent\"><img src=\"https://colab.research.google.com/assets/colab-badge.svg\" alt=\"Open In Colab\"/></a>"
      ]
    },
    {
      "cell_type": "markdown",
      "metadata": {
        "id": "i3dcsK33bPYg"
      },
      "source": [
        "Write a function so that the columns of the output matrix are powers of the input\r\n",
        "vector.\r\n",
        "The order of the powers is determined by the increasing boolean argument. Specifically, when\r\n",
        "increasing is False, the i-th output column is the input vector raised element-wise to the power\r\n",
        "of N - i - 1.\r\n",
        "\r\n",
        "HINT: Such a matrix with a geometric progression in each row is named for Alexandre-\r\n",
        "Theophile Vandermonde."
      ]
    },
    {
      "cell_type": "code",
      "metadata": {
        "id": "bvmGF8ep73hO"
      },
      "source": [
        "import numpy as np"
      ],
      "execution_count": 1,
      "outputs": []
    },
    {
      "cell_type": "code",
      "metadata": {
        "id": "S9yisTEha5jG"
      },
      "source": [
        "def Vandermonde(input_vector,n,increasing=True):\r\n",
        "  if increasing:\r\n",
        "    output_matrix=np.mat([ x**i  for x in input_vector for i in range(n)]).reshape(input_vector.size,n)\r\n",
        "  else:\r\n",
        "    output_matrix=np.mat([ x**(n-i-1)  for x in input_vector for i in range(n)]).reshape(input_vector.size,n)\r\n",
        "\r\n",
        "  return output_matrix    "
      ],
      "execution_count": 15,
      "outputs": []
    },
    {
      "cell_type": "code",
      "metadata": {
        "id": "JJ_VxEI-9Ay9"
      },
      "source": [
        "input_vector=np.array([1,2,3,4,5])\r\n",
        "n=5"
      ],
      "execution_count": 16,
      "outputs": []
    },
    {
      "cell_type": "code",
      "metadata": {
        "colab": {
          "base_uri": "https://localhost:8080/"
        },
        "id": "M-UArzkj87hH",
        "outputId": "fad1588d-6e08-48be-a683-e4dfb7963ba6"
      },
      "source": [
        "Vandermonde(input_vector,n,False)"
      ],
      "execution_count": 19,
      "outputs": [
        {
          "output_type": "execute_result",
          "data": {
            "text/plain": [
              "matrix([[  1,   1,   1,   1,   1],\n",
              "        [ 16,   8,   4,   2,   1],\n",
              "        [ 81,  27,   9,   3,   1],\n",
              "        [256,  64,  16,   4,   1],\n",
              "        [625, 125,  25,   5,   1]])"
            ]
          },
          "metadata": {
            "tags": []
          },
          "execution_count": 19
        }
      ]
    },
    {
      "cell_type": "code",
      "metadata": {
        "colab": {
          "base_uri": "https://localhost:8080/"
        },
        "id": "jw8EHZvq9QL_",
        "outputId": "aeba9180-ca6b-4d94-bad9-5a8311d4d73e"
      },
      "source": [
        "Vandermonde(input_vector,n)"
      ],
      "execution_count": 18,
      "outputs": [
        {
          "output_type": "execute_result",
          "data": {
            "text/plain": [
              "matrix([[  1,   1,   1,   1,   1],\n",
              "        [  1,   2,   4,   8,  16],\n",
              "        [  1,   3,   9,  27,  81],\n",
              "        [  1,   4,  16,  64, 256],\n",
              "        [  1,   5,  25, 125, 625]])"
            ]
          },
          "metadata": {
            "tags": []
          },
          "execution_count": 18
        }
      ]
    },
    {
      "cell_type": "markdown",
      "metadata": {
        "id": "D-JyINZk-4bw"
      },
      "source": [
        " **Question: Write a function to find moving average in an array over a window:\r\n",
        "Test it over [3, 5, 7, 2, 8, 10, 11, 65, 72, 81, 99, 100, 150] and window of 3.**\r\n",
        "\r\n",
        "Problem Statement 2:\r\n",
        "Given a sequence of n values x1, x2, ..., xn and a window size k>0, the k-th moving average of\r\n",
        "the given sequence is defined as follows:\r\n",
        "The moving average sequence has n-k+1 elements as shown below.\r\n",
        "\r\n",
        "The moving averages with k=4 of a ten-value sequence (n=10) is shown below\r\n",
        "\r\n",
        "i 1 2 3 4 5 6 7 8 9 10\r\n",
        "===== == == == == == == == == == ==\r\n",
        "\r\n",
        "Input 10 20 30 40 50 60 70 80 90 100\r\n",
        "\r\n",
        "y1 25 = (10+20+30+40)/4\r\n",
        "\r\n",
        "y2 35 = (20+30+40+50)/4\r\n",
        "\r\n",
        "y3 45 = (30+40+50+60)/4\r\n",
        "\r\n",
        "y4 55 = (40+50+60+70)/4\r\n",
        "\r\n",
        "y5 65 = (50+60+70+80)/4\r\n",
        "\r\n",
        "y6 75 = (60+70+80+90)/4\r\n",
        "\r\n",
        "y7 85 = (70+80+90+100)/4\r\n",
        "\r\n",
        "Thus, the moving average sequence has n-k+1=10-4+1=7 values.\r\n"
      ]
    },
    {
      "cell_type": "code",
      "metadata": {
        "id": "tpgvRPfH9_6W"
      },
      "source": [
        "def moving_avg(in_put,window):\r\n",
        "  n=len(in_put)\r\n",
        "  out_put=np.convolve(in_put, np.ones(window), 'valid') / window\r\n",
        "  for i in range(n-window+1):\r\n",
        "    print(\"y{i} = {out:0.2f}\".format(i=i,out=out_put[i]))"
      ],
      "execution_count": 60,
      "outputs": []
    },
    {
      "cell_type": "code",
      "metadata": {
        "colab": {
          "base_uri": "https://localhost:8080/"
        },
        "id": "L3t_WS0sAApp",
        "outputId": "c415a651-2c0d-4ed6-bd92-de064cac6abb"
      },
      "source": [
        "window=3\r\n",
        "in_put=[3, 5, 7, 2, 8, 10, 11, 65, 72, 81, 99, 100, 150]\r\n",
        "moving_avg(in_put,window)"
      ],
      "execution_count": 61,
      "outputs": [
        {
          "output_type": "stream",
          "text": [
            "y0 = 5.00\n",
            "y1 = 4.67\n",
            "y2 = 5.67\n",
            "y3 = 6.67\n",
            "y4 = 9.67\n",
            "y5 = 28.67\n",
            "y6 = 49.33\n",
            "y7 = 72.67\n",
            "y8 = 84.00\n",
            "y9 = 93.33\n",
            "y10 = 116.33\n"
          ],
          "name": "stdout"
        }
      ]
    },
    {
      "cell_type": "code",
      "metadata": {
        "id": "QF087MeMZj2f"
      },
      "source": [
        ""
      ],
      "execution_count": null,
      "outputs": []
    }
  ]
}